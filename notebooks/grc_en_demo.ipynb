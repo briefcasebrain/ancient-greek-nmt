{
  "cells": [
    {
      "cell_type": "markdown",
      "metadata": {},
      "source": [
        "# Ancient Greek ↔ English NMT — Tiny Demo Notebook\n",
        "\n",
        "This notebook walks you through a **toy end‑to‑end run** using the single‑file pipeline (`grc_nmt.py`).\n",
        "\n",
        "> **Notes**\n",
        "> - Run on Colab or a local GPU box; models can be large.\n",
        "> - It expects `../grc_nmt.py` relative to this notebook.\n",
        "> - We use *very* small data and **1 epoch** just to verify the wiring.\n"
      ]
    },
    {
      "cell_type": "code",
      "execution_count": null,
      "metadata": {},
      "outputs": [],
      "source": [
        "# Install dependencies (uncomment if needed)\n",
        "!python -m pip install --upgrade \"transformers>=4.42\" \"datasets>=2.16\" \"accelerate>=0.33\" sacrebleu ftfy unidecode regex"
      ]
    },
    {
      "cell_type": "code",
      "execution_count": null,
      "metadata": {},
      "outputs": [],
      "source": [
        "# Sanity check for pipeline script & copy tiny data\n",
        "from pathlib import Path\n",
        "import os, shutil\n",
        "assert Path('..','grc_nmt.py').exists(), 'Place grc_nmt.py in the repo root.'\n",
        "os.makedirs('../data/raw', exist_ok=True)\n",
        "shutil.copy('../sample_data/grc.txt','../data/raw/grc.txt')\n",
        "shutil.copy('../sample_data/en.txt','../data/raw/en.txt')\n",
        "print('Copied toy data to ../data/raw/')"
      ]
    },
    {
      "cell_type": "markdown",
      "metadata": {},
      "source": [
        "## 1) Preprocess and split"
      ]
    },
    {
      "cell_type": "code",
      "execution_count": null,
      "metadata": {},
      "outputs": [],
      "source": [
        "!python ../grc_nmt.py preprocess \\\n",
        "  --src_file ../data/raw/grc.txt \\\n",
        "  --tgt_file ../data/raw/en.txt \\\n",
        "  --out_jsonl ../data/bitext.jsonl \\\n",
        "  --lang src_grc --keep_diacritics --lowercase\n",
        "\n",
        "!python ../grc_nmt.py make_splits \\\n",
        "  --bitext ../data/bitext.jsonl \\\n",
        "  --train ../data/train.jsonl --dev ../data/dev.jsonl --test ../data/test.jsonl"
      ]
    },
    {
      "cell_type": "markdown",
      "metadata": {},
      "source": [
        "## 2) Train GRC→EN (mBART default) — 1 epoch"
      ]
    },
    {
      "cell_type": "code",
      "execution_count": null,
      "metadata": {},
      "outputs": [],
      "source": [
        "!python ../grc_nmt.py train \\\n",
        "  --train_jsonl ../data/train.jsonl --dev_jsonl ../data/dev.jsonl \\\n",
        "  --direction grc2en \\\n",
        "  --model_name facebook/mbart-large-50-many-to-many-mmt \\\n",
        "  --save_dir ../runs/grc2en.mbart \\\n",
        "  --num_epochs 1 --lr 5e-5 --batch 4 --grad_accum 1 \\\n",
        "  --src_lang_tok_code el_GR --tgt_lang_tok_code en_XX --forced_bos_lang en_XX"
      ]
    },
    {
      "cell_type": "markdown",
      "metadata": {},
      "source": [
        "## 3) Evaluate (BLEU + chrF)"
      ]
    },
    {
      "cell_type": "code",
      "execution_count": null,
      "metadata": {},
      "outputs": [],
      "source": [
        "!python ../grc_nmt.py evaluate \\\n",
        "  --model_dir ../runs/grc2en.mbart \\\n",
        "  --test_jsonl ../data/test.jsonl \\\n",
        "  --src_lang grc --tgt_lang en \\\n",
        "  --src_lang_tok_code el_GR --tgt_lang_tok_code en_XX"
      ]
    },
    {
      "cell_type": "markdown",
      "metadata": {},
      "source": [
        "## 4) Try a translation"
      ]
    },
    {
      "cell_type": "code",
      "execution_count": null,
      "metadata": {},
      "outputs": [],
      "source": [
        "open('../toy_in.grc','w',encoding='utf-8').write('οἱ παῖδες ἐν τῇ οἰκίᾳ εἰσίν.\\n')\n",
        "!python ../grc_nmt.py generate \\\n",
        "  --model_dir ../runs/grc2en.mbart \\\n",
        "  --in_txt ../toy_in.grc --out_txt ../toy_out.en \\\n",
        "  --src_lang grc --tgt_lang en \\\n",
        "  --src_lang_tok_code el_GR --tgt_lang_tok_code en_XX --forced_bos_lang en_XX\n",
        "print(open('../toy_out.en','r',encoding='utf-8').read())"
      ]
    }
  ],
  "metadata": {
    "kernelspec": {
      "display_name": "Python 3",
      "language": "python",
      "name": "python3"
    },
    "language_info": {
      "name": "python"
    }
  },
  "nbformat": 4,
  "nbformat_minor": 5
}